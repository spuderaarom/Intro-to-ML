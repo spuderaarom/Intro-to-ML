{
  "nbformat": 4,
  "nbformat_minor": 0,
  "metadata": {
    "colab": {
      "provenance": [],
      "authorship_tag": "ABX9TyN9qrJ342IADa7zAnVSNfZw",
      "include_colab_link": true
    },
    "kernelspec": {
      "name": "python3",
      "display_name": "Python 3"
    },
    "language_info": {
      "name": "python"
    }
  },
  "cells": [
    {
      "cell_type": "markdown",
      "metadata": {
        "id": "view-in-github",
        "colab_type": "text"
      },
      "source": [
        "<a href=\"https://colab.research.google.com/github/spuderaarom/Intro-to-ML/blob/main/Assignment_2.ipynb\" target=\"_parent\"><img src=\"https://colab.research.google.com/assets/colab-badge.svg\" alt=\"Open In Colab\"/></a>"
      ]
    },
    {
      "cell_type": "code",
      "execution_count": null,
      "metadata": {
        "colab": {
          "base_uri": "https://localhost:8080/"
        },
        "id": "4qosA5IrknIo",
        "outputId": "dc1811fa-5f8c-4e9e-a0c0-77776f9a0058"
      },
      "outputs": [
        {
          "output_type": "stream",
          "name": "stdout",
          "text": [
            "Mounted at /content/drive\n"
          ]
        }
      ],
      "source": [
        "import numpy as np\n",
        "import pandas as pd\n",
        "\n",
        "import matplotlib.pyplot as plt\n",
        "import seaborn as sns\n",
        "\n",
        "from google.colab import drive\n",
        "drive.mount ('/content/drive')"
      ]
    },
    {
      "cell_type": "code",
      "source": [
        "file_path = '/content/drive/My Drive/Housing.csv'\n",
        "housing = pd.DataFrame(pd.read_csv(file_path))\n",
        "housing.head()"
      ],
      "metadata": {
        "colab": {
          "base_uri": "https://localhost:8080/",
          "height": 206
        },
        "id": "IvAzTwVfl1k0",
        "outputId": "5922d697-64d7-4e76-8544-870033aa6c29"
      },
      "execution_count": null,
      "outputs": [
        {
          "output_type": "execute_result",
          "data": {
            "text/plain": [
              "      price  area  bedrooms  bathrooms  stories mainroad guestroom basement  \\\n",
              "0  13300000  7420         4          2        3      yes        no       no   \n",
              "1  12250000  8960         4          4        4      yes        no       no   \n",
              "2  12250000  9960         3          2        2      yes        no      yes   \n",
              "3  12215000  7500         4          2        2      yes        no      yes   \n",
              "4  11410000  7420         4          1        2      yes       yes      yes   \n",
              "\n",
              "  hotwaterheating airconditioning  parking prefarea furnishingstatus  \n",
              "0              no             yes        2      yes        furnished  \n",
              "1              no             yes        3       no        furnished  \n",
              "2              no              no        2      yes   semi-furnished  \n",
              "3              no             yes        3      yes        furnished  \n",
              "4              no             yes        2       no        furnished  "
            ],
            "text/html": [
              "\n",
              "  <div id=\"df-435c8c38-5900-4120-be25-8a033c1c1fb3\" class=\"colab-df-container\">\n",
              "    <div>\n",
              "<style scoped>\n",
              "    .dataframe tbody tr th:only-of-type {\n",
              "        vertical-align: middle;\n",
              "    }\n",
              "\n",
              "    .dataframe tbody tr th {\n",
              "        vertical-align: top;\n",
              "    }\n",
              "\n",
              "    .dataframe thead th {\n",
              "        text-align: right;\n",
              "    }\n",
              "</style>\n",
              "<table border=\"1\" class=\"dataframe\">\n",
              "  <thead>\n",
              "    <tr style=\"text-align: right;\">\n",
              "      <th></th>\n",
              "      <th>price</th>\n",
              "      <th>area</th>\n",
              "      <th>bedrooms</th>\n",
              "      <th>bathrooms</th>\n",
              "      <th>stories</th>\n",
              "      <th>mainroad</th>\n",
              "      <th>guestroom</th>\n",
              "      <th>basement</th>\n",
              "      <th>hotwaterheating</th>\n",
              "      <th>airconditioning</th>\n",
              "      <th>parking</th>\n",
              "      <th>prefarea</th>\n",
              "      <th>furnishingstatus</th>\n",
              "    </tr>\n",
              "  </thead>\n",
              "  <tbody>\n",
              "    <tr>\n",
              "      <th>0</th>\n",
              "      <td>13300000</td>\n",
              "      <td>7420</td>\n",
              "      <td>4</td>\n",
              "      <td>2</td>\n",
              "      <td>3</td>\n",
              "      <td>yes</td>\n",
              "      <td>no</td>\n",
              "      <td>no</td>\n",
              "      <td>no</td>\n",
              "      <td>yes</td>\n",
              "      <td>2</td>\n",
              "      <td>yes</td>\n",
              "      <td>furnished</td>\n",
              "    </tr>\n",
              "    <tr>\n",
              "      <th>1</th>\n",
              "      <td>12250000</td>\n",
              "      <td>8960</td>\n",
              "      <td>4</td>\n",
              "      <td>4</td>\n",
              "      <td>4</td>\n",
              "      <td>yes</td>\n",
              "      <td>no</td>\n",
              "      <td>no</td>\n",
              "      <td>no</td>\n",
              "      <td>yes</td>\n",
              "      <td>3</td>\n",
              "      <td>no</td>\n",
              "      <td>furnished</td>\n",
              "    </tr>\n",
              "    <tr>\n",
              "      <th>2</th>\n",
              "      <td>12250000</td>\n",
              "      <td>9960</td>\n",
              "      <td>3</td>\n",
              "      <td>2</td>\n",
              "      <td>2</td>\n",
              "      <td>yes</td>\n",
              "      <td>no</td>\n",
              "      <td>yes</td>\n",
              "      <td>no</td>\n",
              "      <td>no</td>\n",
              "      <td>2</td>\n",
              "      <td>yes</td>\n",
              "      <td>semi-furnished</td>\n",
              "    </tr>\n",
              "    <tr>\n",
              "      <th>3</th>\n",
              "      <td>12215000</td>\n",
              "      <td>7500</td>\n",
              "      <td>4</td>\n",
              "      <td>2</td>\n",
              "      <td>2</td>\n",
              "      <td>yes</td>\n",
              "      <td>no</td>\n",
              "      <td>yes</td>\n",
              "      <td>no</td>\n",
              "      <td>yes</td>\n",
              "      <td>3</td>\n",
              "      <td>yes</td>\n",
              "      <td>furnished</td>\n",
              "    </tr>\n",
              "    <tr>\n",
              "      <th>4</th>\n",
              "      <td>11410000</td>\n",
              "      <td>7420</td>\n",
              "      <td>4</td>\n",
              "      <td>1</td>\n",
              "      <td>2</td>\n",
              "      <td>yes</td>\n",
              "      <td>yes</td>\n",
              "      <td>yes</td>\n",
              "      <td>no</td>\n",
              "      <td>yes</td>\n",
              "      <td>2</td>\n",
              "      <td>no</td>\n",
              "      <td>furnished</td>\n",
              "    </tr>\n",
              "  </tbody>\n",
              "</table>\n",
              "</div>\n",
              "    <div class=\"colab-df-buttons\">\n",
              "\n",
              "  <div class=\"colab-df-container\">\n",
              "    <button class=\"colab-df-convert\" onclick=\"convertToInteractive('df-435c8c38-5900-4120-be25-8a033c1c1fb3')\"\n",
              "            title=\"Convert this dataframe to an interactive table.\"\n",
              "            style=\"display:none;\">\n",
              "\n",
              "  <svg xmlns=\"http://www.w3.org/2000/svg\" height=\"24px\" viewBox=\"0 -960 960 960\">\n",
              "    <path d=\"M120-120v-720h720v720H120Zm60-500h600v-160H180v160Zm220 220h160v-160H400v160Zm0 220h160v-160H400v160ZM180-400h160v-160H180v160Zm440 0h160v-160H620v160ZM180-180h160v-160H180v160Zm440 0h160v-160H620v160Z\"/>\n",
              "  </svg>\n",
              "    </button>\n",
              "\n",
              "  <style>\n",
              "    .colab-df-container {\n",
              "      display:flex;\n",
              "      gap: 12px;\n",
              "    }\n",
              "\n",
              "    .colab-df-convert {\n",
              "      background-color: #E8F0FE;\n",
              "      border: none;\n",
              "      border-radius: 50%;\n",
              "      cursor: pointer;\n",
              "      display: none;\n",
              "      fill: #1967D2;\n",
              "      height: 32px;\n",
              "      padding: 0 0 0 0;\n",
              "      width: 32px;\n",
              "    }\n",
              "\n",
              "    .colab-df-convert:hover {\n",
              "      background-color: #E2EBFA;\n",
              "      box-shadow: 0px 1px 2px rgba(60, 64, 67, 0.3), 0px 1px 3px 1px rgba(60, 64, 67, 0.15);\n",
              "      fill: #174EA6;\n",
              "    }\n",
              "\n",
              "    .colab-df-buttons div {\n",
              "      margin-bottom: 4px;\n",
              "    }\n",
              "\n",
              "    [theme=dark] .colab-df-convert {\n",
              "      background-color: #3B4455;\n",
              "      fill: #D2E3FC;\n",
              "    }\n",
              "\n",
              "    [theme=dark] .colab-df-convert:hover {\n",
              "      background-color: #434B5C;\n",
              "      box-shadow: 0px 1px 3px 1px rgba(0, 0, 0, 0.15);\n",
              "      filter: drop-shadow(0px 1px 2px rgba(0, 0, 0, 0.3));\n",
              "      fill: #FFFFFF;\n",
              "    }\n",
              "  </style>\n",
              "\n",
              "    <script>\n",
              "      const buttonEl =\n",
              "        document.querySelector('#df-435c8c38-5900-4120-be25-8a033c1c1fb3 button.colab-df-convert');\n",
              "      buttonEl.style.display =\n",
              "        google.colab.kernel.accessAllowed ? 'block' : 'none';\n",
              "\n",
              "      async function convertToInteractive(key) {\n",
              "        const element = document.querySelector('#df-435c8c38-5900-4120-be25-8a033c1c1fb3');\n",
              "        const dataTable =\n",
              "          await google.colab.kernel.invokeFunction('convertToInteractive',\n",
              "                                                    [key], {});\n",
              "        if (!dataTable) return;\n",
              "\n",
              "        const docLinkHtml = 'Like what you see? Visit the ' +\n",
              "          '<a target=\"_blank\" href=https://colab.research.google.com/notebooks/data_table.ipynb>data table notebook</a>'\n",
              "          + ' to learn more about interactive tables.';\n",
              "        element.innerHTML = '';\n",
              "        dataTable['output_type'] = 'display_data';\n",
              "        await google.colab.output.renderOutput(dataTable, element);\n",
              "        const docLink = document.createElement('div');\n",
              "        docLink.innerHTML = docLinkHtml;\n",
              "        element.appendChild(docLink);\n",
              "      }\n",
              "    </script>\n",
              "  </div>\n",
              "\n",
              "\n",
              "<div id=\"df-3396dc22-c4b4-4ce4-9801-a9e5d3196ab2\">\n",
              "  <button class=\"colab-df-quickchart\" onclick=\"quickchart('df-3396dc22-c4b4-4ce4-9801-a9e5d3196ab2')\"\n",
              "            title=\"Suggest charts\"\n",
              "            style=\"display:none;\">\n",
              "\n",
              "<svg xmlns=\"http://www.w3.org/2000/svg\" height=\"24px\"viewBox=\"0 0 24 24\"\n",
              "     width=\"24px\">\n",
              "    <g>\n",
              "        <path d=\"M19 3H5c-1.1 0-2 .9-2 2v14c0 1.1.9 2 2 2h14c1.1 0 2-.9 2-2V5c0-1.1-.9-2-2-2zM9 17H7v-7h2v7zm4 0h-2V7h2v10zm4 0h-2v-4h2v4z\"/>\n",
              "    </g>\n",
              "</svg>\n",
              "  </button>\n",
              "\n",
              "<style>\n",
              "  .colab-df-quickchart {\n",
              "      --bg-color: #E8F0FE;\n",
              "      --fill-color: #1967D2;\n",
              "      --hover-bg-color: #E2EBFA;\n",
              "      --hover-fill-color: #174EA6;\n",
              "      --disabled-fill-color: #AAA;\n",
              "      --disabled-bg-color: #DDD;\n",
              "  }\n",
              "\n",
              "  [theme=dark] .colab-df-quickchart {\n",
              "      --bg-color: #3B4455;\n",
              "      --fill-color: #D2E3FC;\n",
              "      --hover-bg-color: #434B5C;\n",
              "      --hover-fill-color: #FFFFFF;\n",
              "      --disabled-bg-color: #3B4455;\n",
              "      --disabled-fill-color: #666;\n",
              "  }\n",
              "\n",
              "  .colab-df-quickchart {\n",
              "    background-color: var(--bg-color);\n",
              "    border: none;\n",
              "    border-radius: 50%;\n",
              "    cursor: pointer;\n",
              "    display: none;\n",
              "    fill: var(--fill-color);\n",
              "    height: 32px;\n",
              "    padding: 0;\n",
              "    width: 32px;\n",
              "  }\n",
              "\n",
              "  .colab-df-quickchart:hover {\n",
              "    background-color: var(--hover-bg-color);\n",
              "    box-shadow: 0 1px 2px rgba(60, 64, 67, 0.3), 0 1px 3px 1px rgba(60, 64, 67, 0.15);\n",
              "    fill: var(--button-hover-fill-color);\n",
              "  }\n",
              "\n",
              "  .colab-df-quickchart-complete:disabled,\n",
              "  .colab-df-quickchart-complete:disabled:hover {\n",
              "    background-color: var(--disabled-bg-color);\n",
              "    fill: var(--disabled-fill-color);\n",
              "    box-shadow: none;\n",
              "  }\n",
              "\n",
              "  .colab-df-spinner {\n",
              "    border: 2px solid var(--fill-color);\n",
              "    border-color: transparent;\n",
              "    border-bottom-color: var(--fill-color);\n",
              "    animation:\n",
              "      spin 1s steps(1) infinite;\n",
              "  }\n",
              "\n",
              "  @keyframes spin {\n",
              "    0% {\n",
              "      border-color: transparent;\n",
              "      border-bottom-color: var(--fill-color);\n",
              "      border-left-color: var(--fill-color);\n",
              "    }\n",
              "    20% {\n",
              "      border-color: transparent;\n",
              "      border-left-color: var(--fill-color);\n",
              "      border-top-color: var(--fill-color);\n",
              "    }\n",
              "    30% {\n",
              "      border-color: transparent;\n",
              "      border-left-color: var(--fill-color);\n",
              "      border-top-color: var(--fill-color);\n",
              "      border-right-color: var(--fill-color);\n",
              "    }\n",
              "    40% {\n",
              "      border-color: transparent;\n",
              "      border-right-color: var(--fill-color);\n",
              "      border-top-color: var(--fill-color);\n",
              "    }\n",
              "    60% {\n",
              "      border-color: transparent;\n",
              "      border-right-color: var(--fill-color);\n",
              "    }\n",
              "    80% {\n",
              "      border-color: transparent;\n",
              "      border-right-color: var(--fill-color);\n",
              "      border-bottom-color: var(--fill-color);\n",
              "    }\n",
              "    90% {\n",
              "      border-color: transparent;\n",
              "      border-bottom-color: var(--fill-color);\n",
              "    }\n",
              "  }\n",
              "</style>\n",
              "\n",
              "  <script>\n",
              "    async function quickchart(key) {\n",
              "      const quickchartButtonEl =\n",
              "        document.querySelector('#' + key + ' button');\n",
              "      quickchartButtonEl.disabled = true;  // To prevent multiple clicks.\n",
              "      quickchartButtonEl.classList.add('colab-df-spinner');\n",
              "      try {\n",
              "        const charts = await google.colab.kernel.invokeFunction(\n",
              "            'suggestCharts', [key], {});\n",
              "      } catch (error) {\n",
              "        console.error('Error during call to suggestCharts:', error);\n",
              "      }\n",
              "      quickchartButtonEl.classList.remove('colab-df-spinner');\n",
              "      quickchartButtonEl.classList.add('colab-df-quickchart-complete');\n",
              "    }\n",
              "    (() => {\n",
              "      let quickchartButtonEl =\n",
              "        document.querySelector('#df-3396dc22-c4b4-4ce4-9801-a9e5d3196ab2 button');\n",
              "      quickchartButtonEl.style.display =\n",
              "        google.colab.kernel.accessAllowed ? 'block' : 'none';\n",
              "    })();\n",
              "  </script>\n",
              "</div>\n",
              "    </div>\n",
              "  </div>\n"
            ],
            "application/vnd.google.colaboratory.intrinsic+json": {
              "type": "dataframe",
              "variable_name": "housing",
              "summary": "{\n  \"name\": \"housing\",\n  \"rows\": 545,\n  \"fields\": [\n    {\n      \"column\": \"price\",\n      \"properties\": {\n        \"dtype\": \"number\",\n        \"std\": 1870439,\n        \"min\": 1750000,\n        \"max\": 13300000,\n        \"num_unique_values\": 219,\n        \"samples\": [\n          3773000,\n          5285000,\n          1820000\n        ],\n        \"semantic_type\": \"\",\n        \"description\": \"\"\n      }\n    },\n    {\n      \"column\": \"area\",\n      \"properties\": {\n        \"dtype\": \"number\",\n        \"std\": 2170,\n        \"min\": 1650,\n        \"max\": 16200,\n        \"num_unique_values\": 284,\n        \"samples\": [\n          6000,\n          2684,\n          5360\n        ],\n        \"semantic_type\": \"\",\n        \"description\": \"\"\n      }\n    },\n    {\n      \"column\": \"bedrooms\",\n      \"properties\": {\n        \"dtype\": \"number\",\n        \"std\": 0,\n        \"min\": 1,\n        \"max\": 6,\n        \"num_unique_values\": 6,\n        \"samples\": [\n          4,\n          3,\n          1\n        ],\n        \"semantic_type\": \"\",\n        \"description\": \"\"\n      }\n    },\n    {\n      \"column\": \"bathrooms\",\n      \"properties\": {\n        \"dtype\": \"number\",\n        \"std\": 0,\n        \"min\": 1,\n        \"max\": 4,\n        \"num_unique_values\": 4,\n        \"samples\": [\n          4,\n          3,\n          2\n        ],\n        \"semantic_type\": \"\",\n        \"description\": \"\"\n      }\n    },\n    {\n      \"column\": \"stories\",\n      \"properties\": {\n        \"dtype\": \"number\",\n        \"std\": 0,\n        \"min\": 1,\n        \"max\": 4,\n        \"num_unique_values\": 4,\n        \"samples\": [\n          4,\n          1,\n          3\n        ],\n        \"semantic_type\": \"\",\n        \"description\": \"\"\n      }\n    },\n    {\n      \"column\": \"mainroad\",\n      \"properties\": {\n        \"dtype\": \"category\",\n        \"num_unique_values\": 2,\n        \"samples\": [\n          \"no\",\n          \"yes\"\n        ],\n        \"semantic_type\": \"\",\n        \"description\": \"\"\n      }\n    },\n    {\n      \"column\": \"guestroom\",\n      \"properties\": {\n        \"dtype\": \"category\",\n        \"num_unique_values\": 2,\n        \"samples\": [\n          \"yes\",\n          \"no\"\n        ],\n        \"semantic_type\": \"\",\n        \"description\": \"\"\n      }\n    },\n    {\n      \"column\": \"basement\",\n      \"properties\": {\n        \"dtype\": \"category\",\n        \"num_unique_values\": 2,\n        \"samples\": [\n          \"yes\",\n          \"no\"\n        ],\n        \"semantic_type\": \"\",\n        \"description\": \"\"\n      }\n    },\n    {\n      \"column\": \"hotwaterheating\",\n      \"properties\": {\n        \"dtype\": \"category\",\n        \"num_unique_values\": 2,\n        \"samples\": [\n          \"yes\",\n          \"no\"\n        ],\n        \"semantic_type\": \"\",\n        \"description\": \"\"\n      }\n    },\n    {\n      \"column\": \"airconditioning\",\n      \"properties\": {\n        \"dtype\": \"category\",\n        \"num_unique_values\": 2,\n        \"samples\": [\n          \"no\",\n          \"yes\"\n        ],\n        \"semantic_type\": \"\",\n        \"description\": \"\"\n      }\n    },\n    {\n      \"column\": \"parking\",\n      \"properties\": {\n        \"dtype\": \"number\",\n        \"std\": 0,\n        \"min\": 0,\n        \"max\": 3,\n        \"num_unique_values\": 4,\n        \"samples\": [\n          3,\n          1\n        ],\n        \"semantic_type\": \"\",\n        \"description\": \"\"\n      }\n    },\n    {\n      \"column\": \"prefarea\",\n      \"properties\": {\n        \"dtype\": \"category\",\n        \"num_unique_values\": 2,\n        \"samples\": [\n          \"no\",\n          \"yes\"\n        ],\n        \"semantic_type\": \"\",\n        \"description\": \"\"\n      }\n    },\n    {\n      \"column\": \"furnishingstatus\",\n      \"properties\": {\n        \"dtype\": \"category\",\n        \"num_unique_values\": 3,\n        \"samples\": [\n          \"furnished\",\n          \"semi-furnished\"\n        ],\n        \"semantic_type\": \"\",\n        \"description\": \"\"\n      }\n    }\n  ]\n}"
            }
          },
          "metadata": {},
          "execution_count": 2
        }
      ]
    },
    {
      "cell_type": "code",
      "source": [
        "housing.shape"
      ],
      "metadata": {
        "colab": {
          "base_uri": "https://localhost:8080/"
        },
        "id": "0sUX3KXOmAJ7",
        "outputId": "a4a35adf-2d6c-44d9-aab6-1024e31c400a"
      },
      "execution_count": null,
      "outputs": [
        {
          "output_type": "execute_result",
          "data": {
            "text/plain": [
              "(545, 13)"
            ]
          },
          "metadata": {},
          "execution_count": 3
        }
      ]
    },
    {
      "cell_type": "code",
      "source": [
        "housing.isnull().sum()*100/housing.shape[0]"
      ],
      "metadata": {
        "colab": {
          "base_uri": "https://localhost:8080/"
        },
        "id": "JhNcTsZbmMiL",
        "outputId": "b8ea16b2-48e2-4e40-b867-e141ece8cfed"
      },
      "execution_count": null,
      "outputs": [
        {
          "output_type": "execute_result",
          "data": {
            "text/plain": [
              "price               0.0\n",
              "area                0.0\n",
              "bedrooms            0.0\n",
              "bathrooms           0.0\n",
              "stories             0.0\n",
              "mainroad            0.0\n",
              "guestroom           0.0\n",
              "basement            0.0\n",
              "hotwaterheating     0.0\n",
              "airconditioning     0.0\n",
              "parking             0.0\n",
              "prefarea            0.0\n",
              "furnishingstatus    0.0\n",
              "dtype: float64"
            ]
          },
          "metadata": {},
          "execution_count": 4
        }
      ]
    },
    {
      "cell_type": "code",
      "source": [
        "varlist =  ['mainroad', 'guestroom', 'basement', 'hotwaterheating', 'airconditioning', 'prefarea']\n",
        "\n",
        "def binary_map(x):\n",
        "    return x.map({'yes': 1, 'no': 0})\n",
        "\n",
        "housing[varlist] = housing[varlist].apply(binary_map)"
      ],
      "metadata": {
        "id": "Yzj-Ok9XmSEV"
      },
      "execution_count": null,
      "outputs": []
    },
    {
      "cell_type": "code",
      "source": [
        "from sklearn.model_selection import train_test_split\n",
        "\n",
        "np.random.seed(0)\n",
        "df_train, df_test = train_test_split(housing, train_size = 0.8, test_size = 0.2, random_state = 100)"
      ],
      "metadata": {
        "id": "t3rxniY9maud"
      },
      "execution_count": null,
      "outputs": []
    },
    {
      "cell_type": "code",
      "source": [
        "num_varsa = ['area', 'bedrooms', 'bathrooms', 'stories', 'parking','price']"
      ],
      "metadata": {
        "id": "tJZ4rKCmmcBl"
      },
      "execution_count": null,
      "outputs": []
    },
    {
      "cell_type": "code",
      "source": [
        "X_train = df_train[num_varsa].values[:, (0,1,2,3,4)]\n",
        "y_train = df_train[num_varsa].values[:, 5]\n",
        "m_train = len(y_train)\n",
        "n_train = len(X_train)"
      ],
      "metadata": {
        "id": "VVOmwX0amd0s"
      },
      "execution_count": null,
      "outputs": []
    },
    {
      "cell_type": "code",
      "source": [
        "X_test = df_test[num_varsa].values[:, (0,1,2,3,4)]\n",
        "y_test = df_test[num_varsa].values[:, 5]\n",
        "m_test = len(y_test)\n",
        "n_test = len(X_test)"
      ],
      "metadata": {
        "id": "-NWoxxYpmjBd"
      },
      "execution_count": null,
      "outputs": []
    },
    {
      "cell_type": "code",
      "source": [
        "# Separate features and labels\n",
        "X_test = df_test[num_varsa].values[:, (0,1,2,3,4)]\n",
        "y_test = df_test[num_varsa].values[:, 5]\n",
        "m_test = len(y_test)\n",
        "n_test = len(X_test)"
      ],
      "metadata": {
        "id": "ZEpyDz33mnps"
      },
      "execution_count": null,
      "outputs": []
    },
    {
      "cell_type": "code",
      "source": [
        "X_0train = np.ones((m_train,1))\n",
        "X_0test = np.ones((m_test,1))\n",
        "\n",
        "X_1train = X_train.reshape(m_train,5)\n",
        "X_1test = X_test.reshape(m_test,5)\n",
        "\n",
        "Xtrain = np.hstack((X_0train, X_1train))\n",
        "Xtest = np.hstack((X_0test, X_1test))"
      ],
      "metadata": {
        "id": "4C8hfJsGmr28"
      },
      "execution_count": null,
      "outputs": []
    },
    {
      "cell_type": "code",
      "source": [
        "theta = np.zeros(6)\n",
        "m= len(housing)"
      ],
      "metadata": {
        "id": "f7BoRqeLmuX8"
      },
      "execution_count": null,
      "outputs": []
    },
    {
      "cell_type": "code",
      "source": [
        "def compute_cost_train(X, y, theta):\n",
        "    predictions = X.dot(theta)\n",
        "    errors = np.subtract(predictions, y)\n",
        "    sqrErrors = np.square(errors)\n",
        "    J = 1 / (2 * m) * np.sum(sqrErrors)\n",
        "    return J"
      ],
      "metadata": {
        "id": "q5gt0hX2mvm0"
      },
      "execution_count": null,
      "outputs": []
    },
    {
      "cell_type": "code",
      "source": [
        "def gradient_descent(X, Xtest, y, y_test, theta, alpha, iterations):\n",
        "    m_train = len(y)  # Number of training examples\n",
        "    m_test = len(y_test)  # Number of testing examples\n",
        "    cost_history_train = np.zeros(iterations)\n",
        "    cost_history_test = np.zeros(iterations)\n",
        "\n",
        "    for i in range(iterations):\n",
        "        predictions = X.dot(theta)\n",
        "        errors = np.subtract(predictions, y)\n",
        "        gradients = (2/m_train) * X.transpose().dot(errors)\n",
        "        theta -= alpha * gradients\n",
        "\n",
        "        train_loss = (1/m_train) * np.sum(np.square(X.dot(theta) - y))\n",
        "        cost_history_train[i] = train_loss\n",
        "\n",
        "        val_loss = (1/m_test) * np.sum(np.square(Xtest.dot(theta) - y_test))\n",
        "        cost_history_test[i] = val_loss\n",
        "\n",
        "    return theta, cost_history_train, cost_history_test"
      ],
      "metadata": {
        "id": "CYfjyAXDmvzk"
      },
      "execution_count": null,
      "outputs": []
    },
    {
      "cell_type": "code",
      "source": [
        "iterations = 1500\n",
        "alpha = .00000001"
      ],
      "metadata": {
        "id": "ydTPLrAhmv-M"
      },
      "execution_count": null,
      "outputs": []
    },
    {
      "cell_type": "code",
      "source": [
        "theta, cost_history_train, cost_history_test = gradient_descent(Xtrain, Xtest, y_train, y_test, theta, alpha, iterations)\n",
        "print('Final value of theta =', theta)\n",
        "print('cost_history =', cost_history_train, cost_history_test)"
      ],
      "metadata": {
        "colab": {
          "base_uri": "https://localhost:8080/"
        },
        "id": "Ujg3qJQ0mwI8",
        "outputId": "584717dd-60bf-4e33-bac4-66a2f9eb8653"
      },
      "execution_count": null,
      "outputs": [
        {
          "output_type": "stream",
          "name": "stdout",
          "text": [
            "Final value of theta = [ 10.96918775 861.87483492  41.29842264  24.06146129  36.97276416\n",
            "   8.58219723]\n",
            "cost_history = [6.68361939e+12 3.85267238e+12 3.44778851e+12 ... 3.37996684e+12\n",
            " 3.37996668e+12 3.37996651e+12] [5.96404484e+12 3.46302312e+12 3.19768414e+12 ... 3.21871187e+12\n",
            " 3.21871171e+12 3.21871156e+12]\n"
          ]
        }
      ]
    },
    {
      "cell_type": "code",
      "source": [
        "plt.plot(cost_history_train, label=\"Training Loss\")\n",
        "plt.plot(cost_history_test, label=\"Validation Loss\")\n",
        "plt.xlabel(\"Iteration\")\n",
        "plt.ylabel(\"Mean Squared Error\")\n",
        "plt.legend()\n",
        "plt.title(\"Training and Validation Loss Over Iterations\")\n",
        "plt.show()"
      ],
      "metadata": {
        "colab": {
          "base_uri": "https://localhost:8080/",
          "height": 472
        },
        "id": "YAG_CT6zmwTk",
        "outputId": "e000d7dc-60c3-49c0-f5db-0093c5a01335"
      },
      "execution_count": null,
      "outputs": [
        {
          "output_type": "display_data",
          "data": {
            "text/plain": [
              "<Figure size 640x480 with 1 Axes>"
            ],
            "image/png": "[encoded data removed]"
          },
          "metadata": {}
        }
      ]
    },
    {
      "cell_type": "code",
      "source": [
        "num_vars = ['area', 'bedrooms', 'bathrooms', 'stories', 'mainroad', 'guestroom', 'basement', 'hotwaterheating', 'airconditioning', 'parking','prefarea','price']\n"
      ],
      "metadata": {
        "id": "vg_tzhz2m4T9"
      },
      "execution_count": null,
      "outputs": []
    },
    {
      "cell_type": "code",
      "source": [
        "X_trainb = df_train[num_vars].values[:, 0:11]\n",
        "y_trainb = df_train[num_vars].values[:, 11]\n",
        "m_trainb = len(y_trainb)\n",
        "n_trainb = len(X_trainb)"
      ],
      "metadata": {
        "id": "16OaiWcTm4O3"
      },
      "execution_count": null,
      "outputs": []
    },
    {
      "cell_type": "code",
      "source": [
        "X_testb = df_test[num_vars].values[:, 0:11]\n",
        "y_testb = df_test[num_vars].values[:, 11]\n",
        "m_testb = len(y_test)\n",
        "n_testb = len(X_test)"
      ],
      "metadata": {
        "id": "r6hVgtFem4I0"
      },
      "execution_count": null,
      "outputs": []
    },
    {
      "cell_type": "code",
      "source": [
        "X_0trainb = np.ones((m_trainb,1))\n",
        "X_0testb = np.ones((m_testb,1))\n",
        "\n",
        "X_1trainb = X_trainb.reshape(m_trainb,11)\n",
        "X_1testb = X_testb.reshape(m_testb,11)\n",
        "\n",
        "Xtrainb = np.hstack((X_0trainb, X_1trainb))\n",
        "Xtestb = np.hstack((X_0testb, X_1testb))"
      ],
      "metadata": {
        "id": "x4gcPQoNm4Cd"
      },
      "execution_count": null,
      "outputs": []
    },
    {
      "cell_type": "code",
      "source": [
        "theta1b = np.zeros(12)"
      ],
      "metadata": {
        "id": "UdnewAfjm_X9"
      },
      "execution_count": null,
      "outputs": []
    },
    {
      "cell_type": "code",
      "source": [
        "iterations1b = 1500\n",
        "alpha1b = .00000001"
      ],
      "metadata": {
        "id": "p4B8qm5Zm_TG"
      },
      "execution_count": null,
      "outputs": []
    },
    {
      "cell_type": "code",
      "source": [
        "theta, cost_history_train, cost_history_test = gradient_descent(Xtrainb, Xtestb, y_trainb, y_testb, theta1b, alpha1b, iterations1b)\n",
        "print('Final value of theta =', theta)\n",
        "print('cost_history =', cost_history_train, cost_history_test)"
      ],
      "metadata": {
        "colab": {
          "base_uri": "https://localhost:8080/"
        },
        "id": "rE5YetMRm_Md",
        "outputId": "88617f7a-0ac4-4318-cacd-d5563422e30e"
      },
      "execution_count": null,
      "outputs": [
        {
          "output_type": "stream",
          "name": "stdout",
          "text": [
            "Final value of theta = [ 10.96916832 861.87215139  41.29836139  24.06143314  36.97271827\n",
            "   9.41172937   4.21626991   6.52764226   2.03239857   9.2712164\n",
            "   8.58218804   4.44408785]\n",
            "cost_history = [6.68361890e+12 3.85267211e+12 3.44778830e+12 ... 3.37994977e+12\n",
            " 3.37994959e+12 3.37994941e+12] [5.96404435e+12 3.46302285e+12 3.19768391e+12 ... 3.21869058e+12\n",
            " 3.21869041e+12 3.21869023e+12]\n"
          ]
        }
      ]
    },
    {
      "cell_type": "code",
      "source": [
        "plt.plot(cost_history_train, label=\"Training Loss\")\n",
        "plt.plot(cost_history_test, label=\"Validation Loss\")\n",
        "plt.xlabel(\"Iteration\")\n",
        "plt.ylabel(\"Mean Squared Error\")\n",
        "plt.legend()\n",
        "plt.title(\"Training and Validation Loss Over Iterations\")\n",
        "plt.show()"
      ],
      "metadata": {
        "colab": {
          "base_uri": "https://localhost:8080/",
          "height": 472
        },
        "id": "tbm6todWnGhF",
        "outputId": "9cbc68da-5923-446b-e00a-537b884789be"
      },
      "execution_count": null,
      "outputs": [
        {
          "output_type": "display_data",
          "data": {
            "text/plain": [
              "<Figure size 640x480 with 1 Axes>"
            ],
            "image/png": "[encoded data removed]"
          },
          "metadata": {}
        }
      ]
    },
    {
      "cell_type": "code",
      "source": [
        "from sklearn.preprocessing import MinMaxScaler, StandardScaler\n",
        "scaler = StandardScaler()\n",
        "\n",
        "num_varsa= ['area', 'bedrooms', 'bathrooms', 'stories', 'parking']\n",
        "\n",
        "df_train[num_varsa] = scaler.fit_transform(df_train[num_varsa])"
      ],
      "metadata": {
        "id": "5_rgRxewm3o8"
      },
      "execution_count": null,
      "outputs": []
    },
    {
      "cell_type": "code",
      "source": [
        "df_test[num_varsa] = scaler.fit_transform(df_test[num_varsa])"
      ],
      "metadata": {
        "id": "AaeocB65nKHk"
      },
      "execution_count": null,
      "outputs": []
    },
    {
      "cell_type": "code",
      "source": [
        "y_train2a= df_train['price'].values\n",
        "x_train2a = df_train[num_varsa].values[:, (0,1,2,3,4)]\n",
        "m_train2a = len(y_train2a)\n",
        "n_train2a = len(x_train2a)"
      ],
      "metadata": {
        "id": "Eie1qjeVnKDn"
      },
      "execution_count": null,
      "outputs": []
    },
    {
      "cell_type": "code",
      "source": [
        "y_test2a= df_test['price'].values\n",
        "x_test2a = df_test[num_varsa].values[:, (0,1,2,3,4)]\n",
        "m_test2a = len(y_test2a)\n",
        "n_test2a = len(x_test2a)\n"
      ],
      "metadata": {
        "id": "fHUofUugnJ-c"
      },
      "execution_count": null,
      "outputs": []
    },
    {
      "cell_type": "code",
      "source": [
        "X_02a = np.ones((m_train2a, 1))\n",
        "X_0t2a = np.ones((m_test2a, 1))"
      ],
      "metadata": {
        "id": "NdZZdYphnOvs"
      },
      "execution_count": null,
      "outputs": []
    },
    {
      "cell_type": "code",
      "source": [
        "X_12a = x_train2a.reshape(m_train2a, 5)\n",
        "X_1t2a = x_test2a.reshape(m_test2a, 5)\n",
        "\n",
        "x_train2a = np.hstack((X_02a, X_12a))\n",
        "x_test2a = np.hstack((X_0t2a, X_1t2a))"
      ],
      "metadata": {
        "id": "QrsIRSninOst"
      },
      "execution_count": null,
      "outputs": []
    },
    {
      "cell_type": "code",
      "source": [
        "theta2a = np.zeros(6)"
      ],
      "metadata": {
        "id": "1xac1A5BnOl0"
      },
      "execution_count": null,
      "outputs": []
    },
    {
      "cell_type": "code",
      "source": [
        "iterations2a = 1500\n",
        "alpha2a = 0.01"
      ],
      "metadata": {
        "id": "Gs_jQmjtoAWl"
      },
      "execution_count": null,
      "outputs": []
    },
    {
      "cell_type": "code",
      "source": [
        "theta2a, cost_history_train, cost_history_test = gradient_descent(x_train2a, x_test2a, y_train2a, y_test2a, theta2a, alpha2a, iterations2a)\n",
        "print('Final value of theta =', theta2a)\n",
        "print('cost_history =', cost_history_train, cost_history_test)"
      ],
      "metadata": {
        "colab": {
          "base_uri": "https://localhost:8080/"
        },
        "id": "wBObwFJ8nJ1k",
        "outputId": "34e56782-b927-45a8-870e-7c195100639f"
      },
      "execution_count": null,
      "outputs": [
        {
          "output_type": "stream",
          "name": "stdout",
          "text": [
            "Final value of theta = [4795729.22018316  729932.3572104    79334.75241901  641264.73546138\n",
            "  463855.85935051  287331.20855395]\n",
            "cost_history = [2.54329771e+13 2.44340072e+13 2.34785618e+13 ... 1.52206968e+12\n",
            " 1.52206968e+12 1.52206968e+12] [2.41295342e+13 2.31464665e+13 2.22073654e+13 ... 1.60988456e+12\n",
            " 1.60988456e+12 1.60988456e+12]\n"
          ]
        }
      ]
    },
    {
      "cell_type": "code",
      "source": [
        "plt.plot(cost_history_train, label=\"Training Loss\")\n",
        "plt.plot(cost_history_test, label=\"Validation Loss\")\n",
        "plt.xlabel(\"Iteration\")\n",
        "plt.ylabel(\"Mean Squared Error\")\n",
        "plt.legend()\n",
        "plt.title(\"Training and Validation Loss Over Iterations\")\n",
        "plt.show()"
      ],
      "metadata": {
        "colab": {
          "base_uri": "https://localhost:8080/",
          "height": 472
        },
        "id": "0uEIAH0DnVOT",
        "outputId": "2fe576e0-d42a-4a8b-85f6-255cfffc851c"
      },
      "execution_count": null,
      "outputs": [
        {
          "output_type": "display_data",
          "data": {
            "text/plain": [
              "<Figure size 640x480 with 1 Axes>"
            ],
            "image/png": "[encoded data removed]"
          },
          "metadata": {}
        }
      ]
    },
    {
      "cell_type": "code",
      "source": [
        "scaler = MinMaxScaler()#StandardScaler() #\n",
        "\n",
        "num_vars = ['area', 'bedrooms', 'bathrooms', 'stories', 'mainroad', 'guestroom', 'basement', 'hotwaterheating', 'airconditioning', 'parking','prefarea','price']\n",
        "df_train[num_vars] = scaler.fit_transform(df_train[num_vars])\n",
        "df_test[num_vars] = scaler.fit_transform(df_test[num_vars])"
      ],
      "metadata": {
        "id": "O2dATpM-nVLs"
      },
      "execution_count": null,
      "outputs": []
    },
    {
      "cell_type": "code",
      "source": [
        "X_train2b = df_train[num_vars].values[:, 0:11]\n",
        "y_train2b = df_train[num_vars].values[:, 11]\n",
        "m_train2b = len(y_train2b)\n",
        "n_train2b = len(X_train2b)"
      ],
      "metadata": {
        "id": "ZriVwpsenVJD"
      },
      "execution_count": null,
      "outputs": []
    },
    {
      "cell_type": "code",
      "source": [
        "X_test2b = df_test[num_vars].values[:, 0:11]\n",
        "y_test2b = df_test[num_vars].values[:, 11]\n",
        "m_test2b = len(y_test2b)\n",
        "n_test2b = len(X_test)"
      ],
      "metadata": {
        "id": "84yNR6uvnVGL"
      },
      "execution_count": null,
      "outputs": []
    },
    {
      "cell_type": "code",
      "source": [
        "X_0train2b = np.ones((m_train2b, 1))\n",
        "X_0test2b = np.ones((m_test2b, 1))\n",
        "\n",
        "X_1train2b = X_train2b.reshape(m_train2b, 11)\n",
        "X_1test2b = X_test2b.reshape(m_test2b, 11)\n",
        "\n",
        "Xtrain2b = np.hstack((X_0train2b, X_1train2b))\n",
        "Xtest2b = np.hstack((X_0test2b, X_1test2b))"
      ],
      "metadata": {
        "id": "C9GuJ3IDnU_8"
      },
      "execution_count": null,
      "outputs": []
    },
    {
      "cell_type": "code",
      "source": [
        "theta2b = np.zeros(12)\n",
        "iterations2b = 1500\n",
        "alpha2b = 0.1"
      ],
      "metadata": {
        "id": "ZCk-GF9Nnbat"
      },
      "execution_count": null,
      "outputs": []
    },
    {
      "cell_type": "code",
      "source": [
        "theta2b, cost_history_train, cost_history_test = gradient_descent(Xtrain2b, Xtest2b, y_train2b, y_test2b, theta2b, alpha2b, iterations2b)\n",
        "print('Final value of theta =', theta2b)\n",
        "print('cost_history =', cost_history_train, cost_history_test)"
      ],
      "metadata": {
        "colab": {
          "base_uri": "https://localhost:8080/"
        },
        "id": "DdQG86R6nbYU",
        "outputId": "34629a5f-4ab6-4dea-d6ff-79b8b93b2082"
      },
      "execution_count": null,
      "outputs": [
        {
          "output_type": "stream",
          "name": "stdout",
          "text": [
            "Final value of theta = [0.00062157 0.30672338 0.04501606 0.29873061 0.10792256 0.05313261\n",
            " 0.03360977 0.02623172 0.07781048 0.07562659 0.06725729 0.05257376]\n",
            "cost_history = [0.03625022 0.02130074 0.01738271 ... 0.00860915 0.00860915 0.00860914] [0.04291103 0.02570219 0.02063971 ... 0.01187362 0.01187365 0.01187368]\n"
          ]
        }
      ]
    },
    {
      "cell_type": "code",
      "source": [
        "plt.plot(cost_history_train, label=\"Training Loss\")\n",
        "plt.plot(cost_history_test, label=\"Validation Loss\")\n",
        "plt.xlabel(\"Iteration\")\n",
        "plt.ylabel(\"Mean Squared Error\")\n",
        "plt.legend()\n",
        "plt.title(\"Training and Validation Loss Over Iterations\")\n",
        "plt.show()"
      ],
      "metadata": {
        "colab": {
          "base_uri": "https://localhost:8080/",
          "height": 472
        },
        "id": "1hrti299nbVk",
        "outputId": "1b9f14da-6b99-4b57-f138-283dcd6d9e4e"
      },
      "execution_count": null,
      "outputs": [
        {
          "output_type": "display_data",
          "data": {
            "text/plain": [
              "<Figure size 640x480 with 1 Axes>"
            ],
            "image/png": "[encoded data removed]"
          },
          "metadata": {}
        }
      ]
    },
    {
      "cell_type": "code",
      "source": [
        "scaler = StandardScaler()#MinMaxScaler()#StandardScaler()#MinMaxScaler()\n",
        "num_varsa= ['area', 'bedrooms', 'bathrooms', 'stories', 'parking']\n",
        "df_train[num_varsa] = scaler.fit_transform(df_train[num_varsa])"
      ],
      "metadata": {
        "id": "CSVLxQBXnbS-"
      },
      "execution_count": null,
      "outputs": []
    },
    {
      "cell_type": "code",
      "source": [
        "y_train3a= df_train['price'].values\n",
        "x_train3a = df_train[num_varsa].values[:, (0,1,2,3,4)]\n",
        "m_train3a = len(y_train3a)\n",
        "n_train3a = len(x_train3a)"
      ],
      "metadata": {
        "id": "xY2p4_pYnbQQ"
      },
      "execution_count": null,
      "outputs": []
    },
    {
      "cell_type": "code",
      "source": [
        "y_test3a= df_test['price'].values\n",
        "x_test3a = df_test[num_varsa].values[:, (0,1,2,3,4)]\n",
        "m_test3a = len(y_test3a)\n",
        "n_test3a = len(x_test3a)"
      ],
      "metadata": {
        "id": "NARn-D22nh45"
      },
      "execution_count": null,
      "outputs": []
    },
    {
      "cell_type": "code",
      "source": [
        "X_03a = np.ones((m_train3a, 1))\n",
        "X_0t3a = np.ones((m_test3a, 1))"
      ],
      "metadata": {
        "id": "Jw-hb7xXnh2Q"
      },
      "execution_count": null,
      "outputs": []
    },
    {
      "cell_type": "code",
      "source": [
        "X_13a = x_train3a.reshape(m_train3a, 5)\n",
        "X_1t3a = x_test3a.reshape(m_test3a, 5)\n",
        "\n",
        "x_train3a = np.hstack((X_03a, X_13a))\n",
        "x_test3a = np.hstack((X_0t3a, X_1t3a))"
      ],
      "metadata": {
        "id": "HU8prC7_nhz1"
      },
      "execution_count": null,
      "outputs": []
    },
    {
      "cell_type": "code",
      "source": [
        "def gradient_descentS(X, Xtest, y, y_test, theta, alpha, iterations):\n",
        "    m_train = len(y_train3a)\n",
        "    m_test = len(y_test3a)\n",
        "    cost_history_train = np.zeros(iterations)\n",
        "    cost_history_test = np.zeros(iterations)\n",
        "\n",
        "    for i in range(iterations):\n",
        "        predictions = X.dot(theta)\n",
        "        errors = np.subtract(predictions, y)\n",
        "        gradients = (2/m_train) * X.transpose().dot(errors) + lambdaa * theta[:1]\n",
        "        theta -= alpha * gradients\n",
        "\n",
        "        train_loss = (1/m_train) * np.sum(np.square(X.dot(theta) - y)) + (lambdaa / (2 * m_train)) * np.sum(np.square(theta[1:]))\n",
        "        cost_history_train[i] = train_loss\n",
        "\n",
        "        val_loss = (1/m_test) * np.sum(np.square(Xtest.dot(theta) - y_test))\n",
        "        cost_history_test[i] = val_loss\n",
        "\n",
        "    return theta, cost_history_train, cost_history_test"
      ],
      "metadata": {
        "id": "M4-ZJHsknhxU"
      },
      "execution_count": null,
      "outputs": []
    },
    {
      "cell_type": "code",
      "source": [
        "theta = np.zeros(6)\n",
        "iterations3a = 1500\n",
        "alpha3a = 0.01\n",
        "lambdaa = 1"
      ],
      "metadata": {
        "id": "UcHChjl5nhu1"
      },
      "execution_count": null,
      "outputs": []
    },
    {
      "cell_type": "code",
      "source": [
        "theta, cost_history_train, cost_history_test = gradient_descentS(x_train3a, x_test3a, y_train3a, y_test3a, theta, alpha3a, iterations3a)\n",
        "print('Final value of theta =', theta)\n",
        "print('cost_history =', cost_history_train, cost_history_test)"
      ],
      "metadata": {
        "colab": {
          "base_uri": "https://localhost:8080/"
        },
        "id": "lEI2xlOJnhoU",
        "outputId": "c35ee1ca-e969-4114-bbe8-5b3bc720e9aa"
      },
      "execution_count": null,
      "outputs": [
        {
          "output_type": "stream",
          "name": "stdout",
          "text": [
            "Final value of theta = [ 0.17579967  0.01035033 -0.02891624  0.01819609 -0.01567801 -0.03370917]\n",
            "cost_history = [0.09185615 0.08834101 0.08504948 ... 0.04026857 0.04026857 0.04026857] [0.10283726 0.09911856 0.09564519 ... 0.04795767 0.04795767 0.04795767]\n"
          ]
        }
      ]
    },
    {
      "cell_type": "code",
      "source": [
        "plt.plot(cost_history_train, label=\"Training Loss\")\n",
        "plt.plot(cost_history_test, label=\"Validation Loss\")\n",
        "plt.xlabel(\"Iteration\")\n",
        "plt.ylabel(\"Mean Squared Error\")\n",
        "plt.legend()\n",
        "plt.title(\"Training and Validation Loss Over Iterations\")\n",
        "plt.show()"
      ],
      "metadata": {
        "colab": {
          "base_uri": "https://localhost:8080/",
          "height": 472
        },
        "id": "IenYua4SnpH8",
        "outputId": "01cd2495-69c2-40bb-b6bb-f73683841e4e"
      },
      "execution_count": null,
      "outputs": [
        {
          "output_type": "display_data",
          "data": {
            "text/plain": [
              "<Figure size 640x480 with 1 Axes>"
            ],
            "image/png": "[encoded data removed]"
          },
          "metadata": {}
        }
      ]
    },
    {
      "cell_type": "code",
      "source": [
        "scaler = StandardScaler()#MinMaxScaler()#StandardScaler()#MinMaxScaler()\n",
        "num_vars = ['area', 'bedrooms', 'bathrooms', 'stories', 'mainroad', 'guestroom', 'basement', 'hotwaterheating', 'airconditioning', 'parking','prefarea','price']\n",
        "\n",
        "df_train[num_vars] = scaler.fit_transform(df_train[num_vars])\n",
        "df_test[num_vars] = scaler.fit_transform(df_test[num_vars])"
      ],
      "metadata": {
        "id": "XYTpK5q8npFk"
      },
      "execution_count": null,
      "outputs": []
    },
    {
      "cell_type": "code",
      "source": [
        "X_train3b = df_train[num_vars].values[:, 0:11]\n",
        "y_train3b = df_train[num_vars].values[:, 11]\n",
        "\n",
        "m_train3b = len(y_train3b)\n",
        "n_train3b = len(X_train3b)\n",
        "\n",
        "\n",
        "X_test3b = df_test[num_vars].values[:, 0:11]\n",
        "y_test3b = df_test[num_vars].values[:, 11]\n",
        "\n",
        "m_test3b = len(y_test3b)\n",
        "n_test3b = len(X_test)"
      ],
      "metadata": {
        "id": "8kIboZ8CnpC0"
      },
      "execution_count": null,
      "outputs": []
    },
    {
      "cell_type": "code",
      "source": [
        "X_0train3b = np.ones((m_train3b, 1))\n",
        "X_0test3b = np.ones((m_test3b, 1))"
      ],
      "metadata": {
        "id": "_hALTQ6Xno_k"
      },
      "execution_count": null,
      "outputs": []
    },
    {
      "cell_type": "code",
      "source": [
        "X_1train3b = X_train3b.reshape(m_train3b, 11)\n",
        "X_1test3b = X_test3b.reshape(m_test3b, 11)\n",
        "\n",
        "Xtrain3b = np.hstack((X_0train3b, X_1train3b))\n",
        "Xtest3b = np.hstack((X_0test2b, X_1test3b))"
      ],
      "metadata": {
        "id": "NEmMOR9anvr8"
      },
      "execution_count": null,
      "outputs": []
    },
    {
      "cell_type": "code",
      "source": [
        "theta3b = np.zeros(12)\n",
        "iterations3b = 1500\n",
        "alpha3b = 0.01\n",
        "lambdaa = 0.1"
      ],
      "metadata": {
        "id": "9hVJNcuInvpk"
      },
      "execution_count": null,
      "outputs": []
    },
    {
      "cell_type": "code",
      "source": [
        "theta, cost_history_train, cost_history_test = gradient_descentS(Xtrain3b, Xtest3b, y_train3b, y_test3b, theta3b, alpha3b, iterations3b)\n",
        "print('Final value of theta =', theta)\n",
        "print('cost_history =', cost_history_train, cost_history_test)"
      ],
      "metadata": {
        "colab": {
          "base_uri": "https://localhost:8080/"
        },
        "id": "qiNjG6mwnvnM",
        "outputId": "7e85fd69-ae10-4c1e-9c93-0d6040848eac"
      },
      "execution_count": null,
      "outputs": [
        {
          "output_type": "stream",
          "name": "stdout",
          "text": [
            "Final value of theta = [1.52646305e-16 2.85688070e-01 3.89913408e-02 3.10167408e-01\n",
            " 1.97101008e-01 1.12753832e-01 7.83067164e-02 7.79667647e-02\n",
            " 1.09891744e-01 2.14416488e-01 1.19295508e-01 1.37110704e-01]\n",
            "cost_history = [0.94268458 0.89041161 0.84273354 ... 0.33019267 0.33019267 0.33019267] [0.93751286 0.88066438 0.82894875 ... 0.33242153 0.33242153 0.33242153]\n"
          ]
        }
      ]
    },
    {
      "cell_type": "code",
      "source": [
        "plt.plot(cost_history_train, label=\"Training Loss\")\n",
        "plt.plot(cost_history_test, label=\"Validation Loss\")\n",
        "plt.xlabel(\"Iteration\")\n",
        "plt.ylabel(\"Mean Squared Error\")\n",
        "plt.legend()\n",
        "plt.title(\"Training and Validation Loss Over Iterations\")\n",
        "plt.show()"
      ],
      "metadata": {
        "colab": {
          "base_uri": "https://localhost:8080/",
          "height": 472
        },
        "id": "9gM8VtHsn3Bc",
        "outputId": "896495e9-aea2-4f4e-e7b4-85567b2f3c4a"
      },
      "execution_count": null,
      "outputs": [
        {
          "output_type": "display_data",
          "data": {
            "text/plain": [
              "<Figure size 640x480 with 1 Axes>"
            ],
            "image/png": "[encoded data removed]"
          },
          "metadata": {}
        }
      ]
    }
  ]
}